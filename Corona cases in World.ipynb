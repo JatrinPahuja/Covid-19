{
 "cells": [
  {
   "cell_type": "code",
   "execution_count": 2,
   "metadata": {},
   "outputs": [],
   "source": [
    "import pandas as pd\n",
    "import requests\n",
    "from bs4 import BeautifulSoup\n"
   ]
  },
  {
   "cell_type": "code",
   "execution_count": 3,
   "metadata": {},
   "outputs": [],
   "source": [
    " url=\"https://www.worldometers.info/coronavirus/\""
   ]
  },
  {
   "cell_type": "code",
   "execution_count": 4,
   "metadata": {},
   "outputs": [
    {
     "name": "stdout",
     "output_type": "stream",
     "text": [
      "<Response [200]>\n"
     ]
    }
   ],
   "source": [
    "response = requests.get(url)\n",
    "print(response)"
   ]
  },
  {
   "cell_type": "code",
   "execution_count": 5,
   "metadata": {},
   "outputs": [],
   "source": [
    "soup = BeautifulSoup(response.content,\"html.parser\")"
   ]
  },
  {
   "cell_type": "code",
   "execution_count": 6,
   "metadata": {},
   "outputs": [
    {
     "data": {
      "text/plain": [
       "<title>Coronavirus Update (Live): 3,083,453 Cases and 212,498 Deaths from COVID-19 Virus Pandemic - Worldometer</title>"
      ]
     },
     "execution_count": 6,
     "metadata": {},
     "output_type": "execute_result"
    }
   ],
   "source": [
    "soup.title\n"
   ]
  },
  {
   "cell_type": "code",
   "execution_count": 1,
   "metadata": {},
   "outputs": [
    {
     "ename": "NameError",
     "evalue": "name 'soup' is not defined",
     "output_type": "error",
     "traceback": [
      "\u001b[1;31m---------------------------------------------------------------------------\u001b[0m",
      "\u001b[1;31mNameError\u001b[0m                                 Traceback (most recent call last)",
      "\u001b[1;32m<ipython-input-1-93b8b0563c1d>\u001b[0m in \u001b[0;36m<module>\u001b[1;34m\u001b[0m\n\u001b[1;32m----> 1\u001b[1;33m \u001b[0mdivs\u001b[0m\u001b[1;33m=\u001b[0m\u001b[0msoup\u001b[0m\u001b[1;33m.\u001b[0m\u001b[0mfind\u001b[0m\u001b[1;33m(\u001b[0m\u001b[1;34m\"div\"\u001b[0m\u001b[1;33m,\u001b[0m \u001b[0mclass_\u001b[0m\u001b[1;33m=\u001b[0m\u001b[1;34m\"panel_flip\"\u001b[0m\u001b[1;33m)\u001b[0m\u001b[1;33m\u001b[0m\u001b[1;33m\u001b[0m\u001b[0m\n\u001b[0m\u001b[0;32m      2\u001b[0m \u001b[0mprint\u001b[0m\u001b[1;33m(\u001b[0m\u001b[0mdivs\u001b[0m\u001b[1;33m)\u001b[0m\u001b[1;33m\u001b[0m\u001b[1;33m\u001b[0m\u001b[0m\n\u001b[0;32m      3\u001b[0m \u001b[1;32mfor\u001b[0m \u001b[0mi\u001b[0m \u001b[1;32min\u001b[0m \u001b[0mdivs\u001b[0m\u001b[1;33m.\u001b[0m\u001b[0mfind_all\u001b[0m\u001b[1;33m(\u001b[0m\u001b[1;34m\"div\"\u001b[0m\u001b[1;33m,\u001b[0m\u001b[0mclass_\u001b[0m\u001b[1;33m=\u001b[0m\u001b[1;34m\"panel_front\"\u001b[0m\u001b[1;33m)\u001b[0m\u001b[1;33m:\u001b[0m\u001b[1;33m\u001b[0m\u001b[1;33m\u001b[0m\u001b[0m\n\u001b[0;32m      4\u001b[0m     \u001b[0mprint\u001b[0m\u001b[1;33m(\u001b[0m\u001b[0mi\u001b[0m\u001b[1;33m.\u001b[0m\u001b[0mtext\u001b[0m\u001b[1;33m)\u001b[0m\u001b[1;33m\u001b[0m\u001b[1;33m\u001b[0m\u001b[0m\n",
      "\u001b[1;31mNameError\u001b[0m: name 'soup' is not defined"
     ]
    }
   ],
   "source": [
    "divs=soup.find(\"div\", class_=\"panel_flip\")\n",
    "print(divs)\n",
    "for i in divs.find_all(\"div\",class_=\"panel_front\"):\n",
    "    print(i.text)"
   ]
  },
  {
   "cell_type": "code",
   "execution_count": 145,
   "metadata": {},
   "outputs": [],
   "source": [
    "table = soup.find_all(\"table\")"
   ]
  },
  {
   "cell_type": "code",
   "execution_count": 146,
   "metadata": {},
   "outputs": [
    {
     "name": "stdout",
     "output_type": "stream",
     "text": [
      "2\n"
     ]
    }
   ],
   "source": [
    "print(len(table))"
   ]
  },
  {
   "cell_type": "code",
   "execution_count": 147,
   "metadata": {},
   "outputs": [],
   "source": [
    "table=table[0]"
   ]
  },
  {
   "cell_type": "code",
   "execution_count": 159,
   "metadata": {},
   "outputs": [],
   "source": [
    "country=[]\n",
    "Total_cases=[]\n",
    "New_cases=[]\n",
    "Total_deaths=[]\n",
    "New_deaths=[]\n",
    "\n",
    "\n",
    "rows=table.find_all(\"tr\")[9:-8]\n",
    "for row in rows:\n",
    "    col = row.find_all(\"td\")\n",
    "    country.append(col[0].text.strip())\n",
    "    Total_cases.append(col[1].text.strip())\n",
    "    New_cases.append(col[2].text.strip())\n",
    "    Total_deaths.append(col[3].text.strip())\n",
    "    New_deaths.append(col[4].text.strip())\n",
    "    "
   ]
  },
  {
   "cell_type": "code",
   "execution_count": 160,
   "metadata": {},
   "outputs": [
    {
     "name": "stdout",
     "output_type": "stream",
     "text": [
      "['USA', 'Spain', 'Italy', 'France', 'Germany', 'UK', 'Turkey', 'Iran', 'Russia', 'Brazil', 'Belgium', 'Canada', 'Netherlands', 'Switzerland', 'India', 'Portugal', 'Ecuador', 'Peru', 'Ireland', 'Sweden', 'Austria', 'Israel', 'Saudi Arabia', 'Mexico', 'Japan', 'Singapore', 'Chile', 'Pakistan', 'Poland', 'S. Korea', 'Romania', 'Belarus', 'Qatar', 'UAE', 'Indonesia', 'Denmark', 'Ukraine', 'Serbia', 'Norway', 'Philippines', 'Czechia', 'Australia', 'Dominican Republic', 'Malaysia', 'Panama', 'Bangladesh', 'Colombia', 'Finland', 'South Africa', 'Egypt', 'Morocco', 'Luxembourg', 'Argentina', 'Algeria', 'Moldova', 'Thailand', 'Kuwait', 'Kazakhstan', 'Bahrain', 'Greece', 'Hungary', 'Croatia', 'Oman', 'Uzbekistan', 'Iceland', 'Iraq', 'Armenia', 'Estonia', 'Azerbaijan', 'Bosnia and Herzegovina', 'Afghanistan', 'New Zealand', 'Cameroon', 'Lithuania', 'Slovenia', 'Slovakia', 'North Macedonia', 'Cuba', 'Ghana', 'Bulgaria', 'Nigeria', 'Ivory Coast', 'Hong Kong', 'Djibouti', 'Guinea', 'Tunisia', 'Bolivia', 'Cyprus', 'Latvia', 'Andorra', 'Albania', 'Diamond Princess', 'Lebanon', 'Costa Rica', 'Niger', 'Kyrgyzstan', 'Burkina Faso', 'Senegal', 'Honduras', 'Uruguay', 'Channel Islands', 'San Marino', 'Palestine', 'Georgia', 'Malta', 'Jordan', 'Guatemala', 'Taiwan', 'Sri Lanka', 'DRC', 'Réunion', 'Mayotte', 'Kenya', 'Mauritius', 'Somalia', 'Mali', 'Montenegro', 'Venezuela', 'Isle of Man', 'Tanzania', 'Jamaica', 'El Salvador', 'Vietnam', 'Paraguay', 'Equatorial Guinea', 'Congo', 'Faeroe Islands', 'Rwanda', 'Sudan', 'Gabon', 'Martinique', 'Guadeloupe', 'Myanmar', 'Brunei', 'Maldives', 'Gibraltar', 'Madagascar', 'Ethiopia', 'Cambodia', 'Liberia', 'Trinidad and Tobago', 'French Guiana', 'Aruba', 'Bermuda', 'Monaco', 'Togo', 'Cabo Verde', 'Zambia', 'Sierra Leone', 'Liechtenstein', 'Barbados', 'Uganda', 'Sint Maarten', 'Bahamas', 'Guyana', 'Haiti', 'Cayman Islands', 'Mozambique', 'Libya', 'French Polynesia', 'Benin', 'Guinea-Bissau', 'Nepal', 'Macao', 'Syria', 'Eswatini', 'Chad', 'Eritrea', 'Saint Martin', 'Mongolia', 'Malawi', 'Zimbabwe', 'Angola', 'Antigua and Barbuda', 'Timor-Leste', 'Botswana', 'Laos', 'Belize', 'Fiji', 'New Caledonia', 'Curaçao', 'CAR', 'Dominica', 'Namibia', 'Grenada', 'Saint Kitts and Nevis', 'Saint Lucia', 'St. Vincent Grenadines', 'Falkland Islands', 'Nicaragua', 'Burundi', 'Montserrat', 'Turks and Caicos', 'Greenland', 'Seychelles', 'Gambia', 'Suriname', 'MS Zaandam', 'Vatican City', 'Papua New Guinea', 'Mauritania', 'Bhutan', 'St. Barth', 'Western Sahara', 'British Virgin Islands', 'Caribbean Netherlands', 'South Sudan', 'Sao Tome and Principe', 'Anguilla', 'Saint Pierre Miquelon', 'Yemen', 'China']\n"
     ]
    }
   ],
   "source": [
    "print(country)"
   ]
  },
  {
   "cell_type": "code",
   "execution_count": 150,
   "metadata": {
    "collapsed": true
   },
   "outputs": [
    {
     "name": "stdout",
     "output_type": "stream",
     "text": [
      "     Country Total_cases New_cases Total_deaths New_deaths\n",
      "0        USA     925,758      +526       52,217        +24\n",
      "1      Spain     219,764                 22,524           \n",
      "2      Italy     192,994                 25,969           \n",
      "3     France     159,828                 22,245           \n",
      "4    Germany     155,054       +55        5,767         +7\n",
      "..       ...         ...       ...          ...        ...\n",
      "214   Total:     453,519    +5,303       16,757       +154\n",
      "215   Total:     121,322    +1,156        5,573        +35\n",
      "216   Total:       8,257       +25           98         +2\n",
      "217   Total:      30,090      +250        1,332         +4\n",
      "218   Total:         721                     15           \n",
      "\n",
      "[219 rows x 5 columns]\n"
     ]
    }
   ],
   "source": [
    "data = pd.DataFrame(list(zip(country,Total_cases,New_cases,Total_deaths,New_deaths)),columns=[\"Country\",\"Total_cases\",\"New_cases\",\"Total_deaths\",\"New_deaths\"])\n",
    "print(data)"
   ]
  },
  {
   "cell_type": "code",
   "execution_count": 151,
   "metadata": {},
   "outputs": [
    {
     "data": {
      "text/html": [
       "<div>\n",
       "<style scoped>\n",
       "    .dataframe tbody tr th:only-of-type {\n",
       "        vertical-align: middle;\n",
       "    }\n",
       "\n",
       "    .dataframe tbody tr th {\n",
       "        vertical-align: top;\n",
       "    }\n",
       "\n",
       "    .dataframe thead th {\n",
       "        text-align: right;\n",
       "    }\n",
       "</style>\n",
       "<table border=\"1\" class=\"dataframe\">\n",
       "  <thead>\n",
       "    <tr style=\"text-align: right;\">\n",
       "      <th></th>\n",
       "      <th>Country</th>\n",
       "      <th>Total_cases</th>\n",
       "      <th>New_cases</th>\n",
       "      <th>Total_deaths</th>\n",
       "      <th>New_deaths</th>\n",
       "    </tr>\n",
       "  </thead>\n",
       "  <tbody>\n",
       "    <tr>\n",
       "      <td>0</td>\n",
       "      <td>USA</td>\n",
       "      <td>925,758</td>\n",
       "      <td>+526</td>\n",
       "      <td>52,217</td>\n",
       "      <td>+24</td>\n",
       "    </tr>\n",
       "    <tr>\n",
       "      <td>1</td>\n",
       "      <td>Spain</td>\n",
       "      <td>219,764</td>\n",
       "      <td>0</td>\n",
       "      <td>22,524</td>\n",
       "      <td>0</td>\n",
       "    </tr>\n",
       "    <tr>\n",
       "      <td>2</td>\n",
       "      <td>Italy</td>\n",
       "      <td>192,994</td>\n",
       "      <td>0</td>\n",
       "      <td>25,969</td>\n",
       "      <td>0</td>\n",
       "    </tr>\n",
       "    <tr>\n",
       "      <td>3</td>\n",
       "      <td>France</td>\n",
       "      <td>159,828</td>\n",
       "      <td>0</td>\n",
       "      <td>22,245</td>\n",
       "      <td>0</td>\n",
       "    </tr>\n",
       "    <tr>\n",
       "      <td>4</td>\n",
       "      <td>Germany</td>\n",
       "      <td>155,054</td>\n",
       "      <td>+55</td>\n",
       "      <td>5,767</td>\n",
       "      <td>+7</td>\n",
       "    </tr>\n",
       "    <tr>\n",
       "      <td>...</td>\n",
       "      <td>...</td>\n",
       "      <td>...</td>\n",
       "      <td>...</td>\n",
       "      <td>...</td>\n",
       "      <td>...</td>\n",
       "    </tr>\n",
       "    <tr>\n",
       "      <td>214</td>\n",
       "      <td>Total:</td>\n",
       "      <td>453,519</td>\n",
       "      <td>+5,303</td>\n",
       "      <td>16,757</td>\n",
       "      <td>+154</td>\n",
       "    </tr>\n",
       "    <tr>\n",
       "      <td>215</td>\n",
       "      <td>Total:</td>\n",
       "      <td>121,322</td>\n",
       "      <td>+1,156</td>\n",
       "      <td>5,573</td>\n",
       "      <td>+35</td>\n",
       "    </tr>\n",
       "    <tr>\n",
       "      <td>216</td>\n",
       "      <td>Total:</td>\n",
       "      <td>8,257</td>\n",
       "      <td>+25</td>\n",
       "      <td>98</td>\n",
       "      <td>+2</td>\n",
       "    </tr>\n",
       "    <tr>\n",
       "      <td>217</td>\n",
       "      <td>Total:</td>\n",
       "      <td>30,090</td>\n",
       "      <td>+250</td>\n",
       "      <td>1,332</td>\n",
       "      <td>+4</td>\n",
       "    </tr>\n",
       "    <tr>\n",
       "      <td>218</td>\n",
       "      <td>Total:</td>\n",
       "      <td>721</td>\n",
       "      <td>0</td>\n",
       "      <td>15</td>\n",
       "      <td>0</td>\n",
       "    </tr>\n",
       "  </tbody>\n",
       "</table>\n",
       "<p>219 rows × 5 columns</p>\n",
       "</div>"
      ],
      "text/plain": [
       "     Country Total_cases New_cases Total_deaths New_deaths\n",
       "0        USA     925,758      +526       52,217        +24\n",
       "1      Spain     219,764         0       22,524          0\n",
       "2      Italy     192,994         0       25,969          0\n",
       "3     France     159,828         0       22,245          0\n",
       "4    Germany     155,054       +55        5,767         +7\n",
       "..       ...         ...       ...          ...        ...\n",
       "214   Total:     453,519    +5,303       16,757       +154\n",
       "215   Total:     121,322    +1,156        5,573        +35\n",
       "216   Total:       8,257       +25           98         +2\n",
       "217   Total:      30,090      +250        1,332         +4\n",
       "218   Total:         721         0           15          0\n",
       "\n",
       "[219 rows x 5 columns]"
      ]
     },
     "execution_count": 151,
     "metadata": {},
     "output_type": "execute_result"
    }
   ],
   "source": [
    "import numpy as np\n",
    "data.replace(r'^s*$',np.nan,regex=True,inplace=True)\n",
    "data.replace(np.nan,0,inplace=True)\n",
    "data"
   ]
  },
  {
   "cell_type": "code",
   "execution_count": 152,
   "metadata": {},
   "outputs": [],
   "source": [
    "New_cases1=[]\n",
    "\n",
    "for i in data[\"New_cases\"]:\n",
    "    s=str(i)\n",
    "    s1=s.replace(\"+\",\"\")\n",
    "    s2=s1.replace(\",\",\"\")\n",
    "    s3=int(s2)\n",
    "    New_cases1.append(s3)\n"
   ]
  },
  {
   "cell_type": "code",
   "execution_count": 153,
   "metadata": {},
   "outputs": [],
   "source": [
    "New_cases = New_cases1\n"
   ]
  },
  {
   "cell_type": "code",
   "execution_count": null,
   "metadata": {},
   "outputs": [],
   "source": []
  },
  {
   "cell_type": "code",
   "execution_count": 154,
   "metadata": {},
   "outputs": [],
   "source": [
    "\n",
    "New_deaths1=[]\n",
    "for i in data[\"New_deaths\"]:\n",
    "    s=str(i)\n",
    "    s1=s.replace(\"+\",\"\")\n",
    "    s2=int(s1)\n",
    "    New_deaths1.append(s2)\n"
   ]
  },
  {
   "cell_type": "code",
   "execution_count": 155,
   "metadata": {},
   "outputs": [],
   "source": [
    "New_deaths=New_deaths1\n",
    "data = pd.DataFrame(list(zip(country,Total_cases,New_cases,Total_deaths,New_deaths)),columns=[\"Country\",\"Total_cases\",\"New_cases\",\"Total_deaths\",\"New_deaths\"])"
   ]
  },
  {
   "cell_type": "code",
   "execution_count": 156,
   "metadata": {},
   "outputs": [
    {
     "data": {
      "text/html": [
       "<div>\n",
       "<style scoped>\n",
       "    .dataframe tbody tr th:only-of-type {\n",
       "        vertical-align: middle;\n",
       "    }\n",
       "\n",
       "    .dataframe tbody tr th {\n",
       "        vertical-align: top;\n",
       "    }\n",
       "\n",
       "    .dataframe thead th {\n",
       "        text-align: right;\n",
       "    }\n",
       "</style>\n",
       "<table border=\"1\" class=\"dataframe\">\n",
       "  <thead>\n",
       "    <tr style=\"text-align: right;\">\n",
       "      <th></th>\n",
       "      <th>Country</th>\n",
       "      <th>Total_cases</th>\n",
       "      <th>New_cases</th>\n",
       "      <th>Total_deaths</th>\n",
       "      <th>New_deaths</th>\n",
       "    </tr>\n",
       "  </thead>\n",
       "  <tbody>\n",
       "    <tr>\n",
       "      <td>0</td>\n",
       "      <td>USA</td>\n",
       "      <td>925,758</td>\n",
       "      <td>526</td>\n",
       "      <td>52,217</td>\n",
       "      <td>24</td>\n",
       "    </tr>\n",
       "    <tr>\n",
       "      <td>1</td>\n",
       "      <td>Spain</td>\n",
       "      <td>219,764</td>\n",
       "      <td>0</td>\n",
       "      <td>22,524</td>\n",
       "      <td>0</td>\n",
       "    </tr>\n",
       "    <tr>\n",
       "      <td>2</td>\n",
       "      <td>Italy</td>\n",
       "      <td>192,994</td>\n",
       "      <td>0</td>\n",
       "      <td>25,969</td>\n",
       "      <td>0</td>\n",
       "    </tr>\n",
       "    <tr>\n",
       "      <td>3</td>\n",
       "      <td>France</td>\n",
       "      <td>159,828</td>\n",
       "      <td>0</td>\n",
       "      <td>22,245</td>\n",
       "      <td>0</td>\n",
       "    </tr>\n",
       "    <tr>\n",
       "      <td>4</td>\n",
       "      <td>Germany</td>\n",
       "      <td>155,054</td>\n",
       "      <td>55</td>\n",
       "      <td>5,767</td>\n",
       "      <td>7</td>\n",
       "    </tr>\n",
       "    <tr>\n",
       "      <td>...</td>\n",
       "      <td>...</td>\n",
       "      <td>...</td>\n",
       "      <td>...</td>\n",
       "      <td>...</td>\n",
       "      <td>...</td>\n",
       "    </tr>\n",
       "    <tr>\n",
       "      <td>214</td>\n",
       "      <td>Total:</td>\n",
       "      <td>453,519</td>\n",
       "      <td>5303</td>\n",
       "      <td>16,757</td>\n",
       "      <td>154</td>\n",
       "    </tr>\n",
       "    <tr>\n",
       "      <td>215</td>\n",
       "      <td>Total:</td>\n",
       "      <td>121,322</td>\n",
       "      <td>1156</td>\n",
       "      <td>5,573</td>\n",
       "      <td>35</td>\n",
       "    </tr>\n",
       "    <tr>\n",
       "      <td>216</td>\n",
       "      <td>Total:</td>\n",
       "      <td>8,257</td>\n",
       "      <td>25</td>\n",
       "      <td>98</td>\n",
       "      <td>2</td>\n",
       "    </tr>\n",
       "    <tr>\n",
       "      <td>217</td>\n",
       "      <td>Total:</td>\n",
       "      <td>30,090</td>\n",
       "      <td>250</td>\n",
       "      <td>1,332</td>\n",
       "      <td>4</td>\n",
       "    </tr>\n",
       "    <tr>\n",
       "      <td>218</td>\n",
       "      <td>Total:</td>\n",
       "      <td>721</td>\n",
       "      <td>0</td>\n",
       "      <td>15</td>\n",
       "      <td>0</td>\n",
       "    </tr>\n",
       "  </tbody>\n",
       "</table>\n",
       "<p>219 rows × 5 columns</p>\n",
       "</div>"
      ],
      "text/plain": [
       "     Country Total_cases  New_cases Total_deaths  New_deaths\n",
       "0        USA     925,758        526       52,217          24\n",
       "1      Spain     219,764          0       22,524           0\n",
       "2      Italy     192,994          0       25,969           0\n",
       "3     France     159,828          0       22,245           0\n",
       "4    Germany     155,054         55        5,767           7\n",
       "..       ...         ...        ...          ...         ...\n",
       "214   Total:     453,519       5303       16,757         154\n",
       "215   Total:     121,322       1156        5,573          35\n",
       "216   Total:       8,257         25           98           2\n",
       "217   Total:      30,090        250        1,332           4\n",
       "218   Total:         721          0           15           0\n",
       "\n",
       "[219 rows x 5 columns]"
      ]
     },
     "execution_count": 156,
     "metadata": {},
     "output_type": "execute_result"
    }
   ],
   "source": [
    "data"
   ]
  },
  {
   "cell_type": "code",
   "execution_count": null,
   "metadata": {},
   "outputs": [],
   "source": []
  }
 ],
 "metadata": {
  "kernelspec": {
   "display_name": "Python 3",
   "language": "python",
   "name": "python3"
  },
  "language_info": {
   "codemirror_mode": {
    "name": "ipython",
    "version": 3
   },
   "file_extension": ".py",
   "mimetype": "text/x-python",
   "name": "python",
   "nbconvert_exporter": "python",
   "pygments_lexer": "ipython3",
   "version": "3.7.4"
  }
 },
 "nbformat": 4,
 "nbformat_minor": 2
}
